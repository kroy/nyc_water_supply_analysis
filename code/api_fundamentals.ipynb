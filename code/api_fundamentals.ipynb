{
 "cells": [
  {
   "cell_type": "markdown",
   "id": "e70a1c51",
   "metadata": {
    "slideshow": {
     "slide_type": "slide"
    }
   },
   "source": [
    "\n",
    "# Interactive API Fundamentals Presentation\n",
    "\n",
    "Welcome to this interactive slideshow on **Using APIs in Python**! 🚀\n",
    "\n",
    "### What you will learn:\n",
    "- Basics of APIs and JSON data\n",
    "- How to make API requests in Python\n",
    "- Using authentication (API keys, application tokens)\n",
    "- Converting API data into GeoPandas\n",
    "- Visualizing geospatial data\n",
    "\n"
   ]
  },
  {
   "cell_type": "markdown",
   "id": "b6c29344",
   "metadata": {
    "id": "b6c29344",
    "slideshow": {
     "slide_type": "slide"
    }
   },
   "source": [
    "## API Fundamentals in Python"
   ]
  },
  {
   "cell_type": "markdown",
   "id": "9e95a1e5",
   "metadata": {
    "id": "9e95a1e5",
    "slideshow": {
     "slide_type": "slide"
    }
   },
   "source": [
    "\n",
    "### Introduction\n",
    "\n",
    "APIs (Application Programming Interfaces) allow different software applications to communicate with each other.\n",
    "They provide a structured way for applications to request and exchange data over the internet.\n",
    "\n",
    "**Why use APIs?**\n",
    "- Access real-time data (weather, stock prices, etc.).\n",
    "- Automate tasks and integrate with other platforms.\n",
    "- Retrieve data from databases and services efficiently.\n",
    "\n",
    "Let's explore the fundamentals of APIs in Python using the `requests` library and `sodapy`.\n"
   ]
  },
  {
   "cell_type": "code",
   "execution_count": 5,
   "id": "dcUc1WdL18Ij",
   "metadata": {
    "id": "dcUc1WdL18Ij",
    "slideshow": {
     "slide_type": "fragment"
    }
   },
   "outputs": [
    {
     "name": "stdout",
     "output_type": "stream",
     "text": [
      "Requirement already satisfied: riverrem in c:\\users\\kiron\\.conda\\envs\\water_supp\\lib\\site-packages (0.0.1)\n",
      "Note: you may need to restart the kernel to use updated packages.\n"
     ]
    }
   ],
   "source": [
    "\n",
    "# !pip install sodapy\n",
    "# !pip install shapely\n",
    "%pip install riverrem\n",
    "# !pip install geopandas"
   ]
  },
  {
   "cell_type": "markdown",
   "id": "596ce24b",
   "metadata": {},
   "source": [
    "You can import the environment file using this line: \n",
    "conda env create --name UDA_Imported -f D:\\Projects\\MyProject\\my_env.yml"
   ]
  },
  {
   "cell_type": "code",
   "execution_count": null,
   "id": "e9ce4881",
   "metadata": {
    "id": "e9ce4881",
    "slideshow": {
     "slide_type": "fragment"
    }
   },
   "outputs": [
    {
     "ename": "ModuleNotFoundError",
     "evalue": "No module named 'gdal'",
     "output_type": "error",
     "traceback": [
      "\u001b[31m---------------------------------------------------------------------------\u001b[39m",
      "\u001b[31mModuleNotFoundError\u001b[39m                       Traceback (most recent call last)",
      "\u001b[36mCell\u001b[39m\u001b[36m \u001b[39m\u001b[32mIn[6]\u001b[39m\u001b[32m, line 8\u001b[39m\n\u001b[32m      6\u001b[39m \u001b[38;5;28;01mfrom\u001b[39;00m\u001b[38;5;250m \u001b[39m\u001b[34;01mshapely\u001b[39;00m\u001b[34;01m.\u001b[39;00m\u001b[34;01mgeometry\u001b[39;00m\u001b[38;5;250m \u001b[39m\u001b[38;5;28;01mimport\u001b[39;00m Point\n\u001b[32m      7\u001b[39m \u001b[38;5;28;01mimport\u001b[39;00m\u001b[38;5;250m \u001b[39m\u001b[34;01mgeopandas\u001b[39;00m\u001b[38;5;250m \u001b[39m\u001b[38;5;28;01mas\u001b[39;00m\u001b[38;5;250m \u001b[39m\u001b[34;01mgpd\u001b[39;00m\n\u001b[32m----> \u001b[39m\u001b[32m8\u001b[39m \u001b[38;5;28;01mfrom\u001b[39;00m\u001b[38;5;250m \u001b[39m\u001b[34;01mriverrem\u001b[39;00m\u001b[34;01m.\u001b[39;00m\u001b[34;01mREMMaker\u001b[39;00m\u001b[38;5;250m \u001b[39m\u001b[38;5;28;01mimport\u001b[39;00m REMMaker\n",
      "\u001b[36mFile \u001b[39m\u001b[32mc:\\Users\\Kiron\\.conda\\envs\\water_supp\\Lib\\site-packages\\riverrem\\REMMaker.py:5\u001b[39m\n\u001b[32m      3\u001b[39m \u001b[38;5;28;01mimport\u001b[39;00m\u001b[38;5;250m \u001b[39m\u001b[34;01msys\u001b[39;00m\n\u001b[32m      4\u001b[39m \u001b[38;5;28;01mimport\u001b[39;00m\u001b[38;5;250m \u001b[39m\u001b[34;01mnumpy\u001b[39;00m\u001b[38;5;250m \u001b[39m\u001b[38;5;28;01mas\u001b[39;00m\u001b[38;5;250m \u001b[39m\u001b[34;01mnp\u001b[39;00m\n\u001b[32m----> \u001b[39m\u001b[32m5\u001b[39m \u001b[38;5;28;01mimport\u001b[39;00m\u001b[38;5;250m \u001b[39m\u001b[34;01mgdal\u001b[39;00m\n\u001b[32m      6\u001b[39m \u001b[38;5;28;01mimport\u001b[39;00m\u001b[38;5;250m \u001b[39m\u001b[34;01mosr\u001b[39;00m\n\u001b[32m      7\u001b[39m \u001b[38;5;28;01mimport\u001b[39;00m\u001b[38;5;250m \u001b[39m\u001b[34;01mogr\u001b[39;00m\n",
      "\u001b[31mModuleNotFoundError\u001b[39m: No module named 'gdal'"
     ]
    }
   ],
   "source": [
    "import requests\n",
    "import json\n",
    "import pandas as pd\n",
    "from sodapy import Socrata\n",
    "import matplotlib.pyplot as plt\n",
    "from shapely.geometry import Point\n",
    "import geopandas as gpd"
   ]
  },
  {
   "cell_type": "markdown",
   "id": "e12d2bed",
   "metadata": {
    "id": "e12d2bed",
    "slideshow": {
     "slide_type": "slide"
    }
   },
   "source": [
    "\n",
    "### Understanding JSON Format\n",
    "\n",
    "APIs often return data in JSON (JavaScript Object Notation) format. JSON is a lightweight data-interchange format\n",
    "that is easy for humans to read and write and easy for machines to parse and generate.\n",
    "\n",
    "#### JSON Structure\n",
    "JSON consists of key-value pairs, similar to a Python dictionary. Example:\n",
    "\n",
    "```json\n",
    "{\n",
    "    \"id\": 1,\n",
    "    \"title\": \"Introduction to APIs\",\n",
    "    \"author\": \"John Doe\",\n",
    "    \"tags\": [\"API\", \"Python\", \"JSON\"]\n",
    "}\n",
    "```\n",
    "\n",
    "- Strings are enclosed in double quotes.\n",
    "- Values can be strings, numbers, booleans, arrays (lists), or nested objects (dictionaries).\n",
    "\n",
    "#### Parsing JSON in Python\n",
    "In Python, the `json` module and `requests` library help us handle JSON data:\n"
   ]
  },
  {
   "cell_type": "code",
   "execution_count": 7,
   "id": "c31e9677",
   "metadata": {
    "id": "c31e9677",
    "slideshow": {
     "slide_type": "fragment"
    }
   },
   "outputs": [
    {
     "name": "stdout",
     "output_type": "stream",
     "text": [
      "Introduction to APIs\n",
      "{\n",
      "    \"id\": 1,\n",
      "    \"title\": \"Introduction to APIs\",\n",
      "    \"author\": \"John Doe\"\n",
      "}\n"
     ]
    }
   ],
   "source": [
    "\n",
    "# JSON string\n",
    "json_data = '{\"id\": 1, \"title\": \"Introduction to APIs\", \"author\": \"John Doe\"}'\n",
    "\n",
    "# Parsing JSON string to a Python dictionary\n",
    "parsed_data = json.loads(json_data)\n",
    "print(parsed_data[\"title\"])  # Output: Introduction to APIs\n",
    "\n",
    "# Converting Python dictionary back to JSON string\n",
    "json_string = json.dumps(parsed_data, indent=4)\n",
    "print(json_string)\n"
   ]
  },
  {
   "cell_type": "markdown",
   "id": "96b74e45",
   "metadata": {
    "id": "96b74e45",
    "slideshow": {
     "slide_type": "slide"
    }
   },
   "source": [
    "\n",
    "### Understanding API Endpoints and Parameters\n",
    "\n",
    "APIs typically have endpoints, which are specific URLs that provide access to resources.\n",
    "When making API requests, we often pass parameters to filter and refine the data.\n",
    "\n",
    "Example API request structure:\n",
    "```\n",
    "https://api.example.com/data?key=value&param=value\n",
    "```\n",
    "- `https://api.example.com/data` -> The API endpoint\n",
    "- `?key=value&param=value` -> Query parameters to modify the request\n",
    "\n",
    "#### Using Parameters in API Requests\n",
    "Many APIs allow you to send parameters to customize the response. Let's look at a few examples.\n",
    "\n",
    "**Example 1: Filtering Posts by User ID**\n"
   ]
  },
  {
   "cell_type": "code",
   "execution_count": 8,
   "id": "d835f005",
   "metadata": {
    "id": "d835f005",
    "slideshow": {
     "slide_type": "fragment"
    }
   },
   "outputs": [
    {
     "name": "stdout",
     "output_type": "stream",
     "text": [
      "First Post for User 1: {'userId': 1, 'id': 1, 'title': 'sunt aut facere repellat provident occaecati excepturi optio reprehenderit', 'body': 'quia et suscipit\\nsuscipit recusandae consequuntur expedita et cum\\nreprehenderit molestiae ut ut quas totam\\nnostrum rerum est autem sunt rem eveniet architecto'}\n"
     ]
    }
   ],
   "source": [
    "\n",
    "params = {\"userId\": 1}  # Filtering posts by user ID\n",
    "url = \"https://jsonplaceholder.typicode.com/posts\"\n",
    "response = requests.get(url, params=params)\n",
    "\n",
    "if response.status_code == 200:\n",
    "    posts = response.json()\n",
    "    print(\"First Post for User 1:\", posts[0])  # Displaying first result\n",
    "else:\n",
    "    print(\"Error fetching data.\")\n"
   ]
  },
  {
   "cell_type": "markdown",
   "id": "7cc2fe50",
   "metadata": {
    "id": "7cc2fe50",
    "slideshow": {
     "slide_type": "slide"
    }
   },
   "source": [
    "\n",
    "**Example 2: Fetching Weather Data Using Parameters**\n",
    "\n",
    "We'll use Open-Meteo's free weather API to fetch real-time weather data.\n"
   ]
  },
  {
   "cell_type": "code",
   "execution_count": 9,
   "id": "7471744d",
   "metadata": {
    "colab": {
     "base_uri": "https://localhost:8080/"
    },
    "id": "7471744d",
    "outputId": "a635967f-444d-46c8-f46c-ad5af5036226",
    "slideshow": {
     "slide_type": "fragment"
    }
   },
   "outputs": [
    {
     "name": "stdout",
     "output_type": "stream",
     "text": [
      "Current Weather in NYC: {'time': '2025-08-05T21:00', 'interval': 900, 'temperature': 27.2, 'windspeed': 17.9, 'winddirection': 124, 'is_day': 1, 'weathercode': 3}\n"
     ]
    }
   ],
   "source": [
    "\n",
    "weather_url = \"https://api.open-meteo.com/v1/forecast\"\n",
    "params = {\n",
    "    \"latitude\": 40.7128,  # New York City\n",
    "    \"longitude\": -74.0060,\n",
    "    \"current_weather\": True\n",
    "}\n",
    "\n",
    "response = requests.get(weather_url, params=params)\n",
    "\n",
    "if response.status_code == 200:\n",
    "    weather_data = response.json()\n",
    "    print(\"Current Weather in NYC:\", weather_data[\"current_weather\"])\n",
    "else:\n",
    "    print(\"Failed to retrieve weather data.\")\n"
   ]
  },
  {
   "cell_type": "markdown",
   "id": "29f8a802",
   "metadata": {
    "id": "29f8a802",
    "slideshow": {
     "slide_type": "slide"
    }
   },
   "source": [
    "\n",
    "### Understanding API Keys and Tokens\n",
    "\n",
    "Some APIs require authentication using API keys or tokens. An API token is a unique identifier used to authenticate requests to the API provider.\n",
    "\n",
    "#### What Are API Tokens?\n",
    "- API tokens serve as a way to authenticate and authorize users.\n",
    "- They help in monitoring API usage and enforcing rate limits.\n",
    "- Some APIs work without a token but have limitations on the number of requests.\n",
    "\n",
    "#### Using an API Token\n",
    "When an API requires a token, you usually pass it as a query parameter or in the request headers.\n",
    "\n",
    "Example (using a fictional API token for demonstration):\n"
   ]
  },
  {
   "cell_type": "markdown",
   "id": "568a3d7a",
   "metadata": {
    "id": "568a3d7a",
    "slideshow": {
     "slide_type": "slide"
    }
   },
   "source": [
    "\n",
    "#### Using the NYC Open Data API With and Without a Token\n",
    "\n",
    "The NYC Open Data API allows access to public datasets with and without an app token. Using a token provides higher rate limits and access to additional data.\n",
    "\n",
    "Without a token:\n"
   ]
  },
  {
   "cell_type": "code",
   "execution_count": null,
   "id": "3gpI_Tz32hXY",
   "metadata": {
    "colab": {
     "base_uri": "https://localhost:8080/"
    },
    "id": "3gpI_Tz32hXY",
    "outputId": "8ce4cef4-ade1-4abe-f4a1-fd7e2218e3f7",
    "slideshow": {
     "slide_type": "fragment"
    }
   },
   "outputs": [
    {
     "name": "stderr",
     "output_type": "stream",
     "text": [
      "WARNING:root:Requests made without an app_token will be subject to strict throttling limits.\n"
     ]
    }
   ],
   "source": [
    "# https://dev.socrata.com/foundry/data.cityofnewyork.us/h9gi-nx95\n",
    "#!/usr/bin/env python\n",
    "\n",
    "# make sure to install these packages before running:\n",
    "# pip install pandas\n",
    "# pip install sodapy\n",
    "\n",
    "import pandas as pd\n",
    "from sodapy import Socrata\n",
    "\n",
    "# Unauthenticated client only works with public data sets. Note 'None'\n",
    "# in place of application token, and no username or password:\n",
    "client = Socrata(\"data.cityofnewyork.us\", None)\n",
    "\n",
    "# Example authenticated client (needed for non-public datasets):\n",
    "# client = Socrata(data.cityofnewyork.us,\n",
    "#                  MyAppToken,\n",
    "#                  username=\"user@example.com\",\n",
    "#                  password=\"AFakePassword\")\n",
    "\n",
    "# First 2000 results, returned as JSON from API / converted to Python list of\n",
    "# dictionaries by sodapy.\n",
    "results = client.get(\"h9gi-nx95\", limit=2000)\n",
    "\n",
    "# Convert to pandas DataFrame\n",
    "results_df = pd.DataFrame.from_records(results)"
   ]
  },
  {
   "cell_type": "markdown",
   "id": "fb96094d",
   "metadata": {
    "id": "fb96094d",
    "slideshow": {
     "slide_type": "slide"
    }
   },
   "source": [
    "\n",
    "With a token:\n"
   ]
  },
  {
   "cell_type": "code",
   "execution_count": null,
   "id": "8064c2f7",
   "metadata": {
    "colab": {
     "base_uri": "https://localhost:8080/"
    },
    "id": "8064c2f7",
    "outputId": "47c5d396-5722-4411-b111-9cf27c824f9b",
    "slideshow": {
     "slide_type": "fragment"
    }
   },
   "outputs": [],
   "source": [
    "\n",
    "api_token = \"---------------\"\n",
    "params = {\"$limit\": 5, \"$$app_token\": api_token}\n",
    "response = requests.get(api_endpoint, params=params)\n",
    "\n",
    "if response.status_code == 200:\n",
    "    print(\"Response with token:\", response.json())\n",
    "else:\n",
    "    print(\"Error:\", response.status_code)\n"
   ]
  },
  {
   "cell_type": "code",
   "execution_count": null,
   "id": "fS8J496p25yA",
   "metadata": {
    "colab": {
     "base_uri": "https://localhost:8080/"
    },
    "id": "fS8J496p25yA",
    "outputId": "97163322-2ebd-464e-d80b-20b11233691b",
    "slideshow": {
     "slide_type": "fragment"
    }
   },
   "outputs": [],
   "source": [
    "import pandas as pd\n",
    "from sodapy import Socrata\n",
    "from datetime import datetime\n",
    "\n",
    "# 1. Get your app token from:\n",
    "# https://dev.socrata.com/docs/app-tokens.html\n",
    "APP_TOKEN = \"------------------------\"  # Replace with your actual token\n",
    "\n",
    "# 2. Configure date range (YYYY-MM-DD)\n",
    "start_date = \"2023-01-01\"\n",
    "end_date = \"2023-12-31\"\n",
    "\n",
    "# Initialize authenticated client\n",
    "client = Socrata(\n",
    "    \"data.cityofnewyork.us\",\n",
    "    APP_TOKEN,\n",
    "    # Optional for public data, required for private datasets:\n",
    "    # username=\"your_email@example.com\",\n",
    "    # password=\"your_password\"\n",
    ")\n",
    "\n",
    "# Build date filter query\n",
    "date_filter = f\"crash_date >= '{start_date}T00:00:00' AND crash_date <= '{end_date}T23:59:59'\"\n",
    "\n",
    "# Paginated download with app token benefits\n",
    "results = []\n",
    "limit = 200  # Max allowed with token (vs 1000 without)\n",
    "offset = 0\n",
    "\n",
    "while True:\n",
    "    batch = client.get(\n",
    "        \"h9gi-nx95\",\n",
    "        where=date_filter,\n",
    "        limit=limit,\n",
    "        offset=offset\n",
    "    )\n",
    "    if not batch:\n",
    "        break\n",
    "    results.extend(batch)\n",
    "    offset += limit\n",
    "    print(f\"Downloaded {len(results)} records...\")\n",
    "\n",
    "# Convert to DataFrame with proper typing\n",
    "df = pd.DataFrame.from_records(results).pipe(\n",
    "    lambda d: d.assign(\n",
    "        crash_date=pd.to_datetime(d['crash_date']),\n",
    "        latitude=pd.to_numeric(d['latitude']),\n",
    "        longitude=pd.to_numeric(d['longitude'])\n",
    "    )\n",
    ")\n",
    "\n",
    "print(f\"\\nSuccessfully retrieved {len(df)} crashes between {start_date} and {end_date}\")\n"
   ]
  },
  {
   "cell_type": "code",
   "execution_count": null,
   "id": "E6GzKmf23cSv",
   "metadata": {
    "colab": {
     "base_uri": "https://localhost:8080/",
     "height": 182
    },
    "id": "E6GzKmf23cSv",
    "outputId": "0906b1d7-2d15-48bd-c3f0-fcc3e0eb3f07",
    "slideshow": {
     "slide_type": "fragment"
    }
   },
   "outputs": [],
   "source": [
    "df.sample()"
   ]
  },
  {
   "cell_type": "code",
   "execution_count": null,
   "id": "Ngmhh_DM5rDd",
   "metadata": {
    "id": "Ngmhh_DM5rDd",
    "slideshow": {
     "slide_type": "fragment"
    }
   },
   "outputs": [],
   "source": [
    "df = df.loc[(df[\"latitude\"]!=0) & (df[\"longitude\"]!=0)]"
   ]
  },
  {
   "cell_type": "code",
   "execution_count": null,
   "id": "3JJuMzEH3dxv",
   "metadata": {
    "colab": {
     "base_uri": "https://localhost:8080/",
     "height": 182
    },
    "id": "3JJuMzEH3dxv",
    "outputId": "14759754-4ebf-4fc4-bc42-b736acd4faed",
    "slideshow": {
     "slide_type": "fragment"
    }
   },
   "outputs": [],
   "source": [
    "\n",
    "\n",
    "# Create a GeoDataFrame with points\n",
    "geometry = [Point(xy) for xy in zip(df[\"longitude\"], df[\"latitude\"])]\n",
    "gdf = gpd.GeoDataFrame(df, geometry=geometry)\n",
    "gdf.sample()\n"
   ]
  },
  {
   "cell_type": "code",
   "execution_count": null,
   "id": "__N-dOAr5JgO",
   "metadata": {
    "colab": {
     "base_uri": "https://localhost:8080/",
     "height": 581
    },
    "id": "__N-dOAr5JgO",
    "outputId": "3bd97f89-5d5a-47fc-e50e-2d2d6ef8e84b",
    "slideshow": {
     "slide_type": "fragment"
    }
   },
   "outputs": [],
   "source": [
    "# Plot map\n",
    "fig, ax = plt.subplots(figsize=(10, 6))\n",
    "gdf.plot(ax=ax, markersize=5, color=\"blue\", alpha=0.5)\n",
    "plt.title(\"NYC Motor Vehicle Collisions\")\n",
    "plt.xlabel(\"Longitude\")\n",
    "plt.ylabel(\"Latitude\")"
   ]
  }
 ],
 "metadata": {
  "colab": {
   "provenance": []
  },
  "kernelspec": {
   "display_name": "water_supp",
   "language": "python",
   "name": "python3"
  },
  "language_info": {
   "codemirror_mode": {
    "name": "ipython",
    "version": 3
   },
   "file_extension": ".py",
   "mimetype": "text/x-python",
   "name": "python",
   "nbconvert_exporter": "python",
   "pygments_lexer": "ipython3",
   "version": "3.13.5"
  }
 },
 "nbformat": 4,
 "nbformat_minor": 5
}
