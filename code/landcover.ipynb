{
 "cells": [
  {
   "cell_type": "code",
   "execution_count": 26,
   "id": "113d6059",
   "metadata": {},
   "outputs": [],
   "source": [
    "import pandas as pd\n",
    "import numpy as np\n",
    "import geopandas as gpd\n",
    "import rasterio as rio\n",
    "import matplotlib.pyplot as plt\n",
    "\n",
    "import os\n",
    "from typing import Any"
   ]
  },
  {
   "cell_type": "code",
   "execution_count": null,
   "id": "80dc2e08",
   "metadata": {},
   "outputs": [],
   "source": [
    "# def fill_na(arr: np.typing.NDArray, no_val: int, fill_val: Any = np.nan) -> np.typing.NDArray:\n",
    "#   copy = np.copy(arr)\n",
    "#   copy[copy == no_val] = fill_val\n",
    "#   return copy"
   ]
  },
  {
   "cell_type": "code",
   "execution_count": 83,
   "id": "3411b879",
   "metadata": {},
   "outputs": [],
   "source": [
    "area_names = [\"croton_outer\", \"catskill_delaware_outer\"]\n",
    "collection_year_range = range(1985, 2025, 1)\n",
    "# simply because I can't figure out a better way to do this >_<\n",
    "decadal_stops = [1994, 2004, 2014, 2024]\n",
    "file_type_dic = {\n",
    "  \"Land Cover\": \"LndCov\",\n",
    "  \"Land Cover Change\": \"LndChg\",\n",
    "  \"Land Cover Confidence\": \"LndCnf\",\n",
    "  \"Fractional Impervious Surface\": \"FctImp\",\n",
    "  \"Impervious Descriptor\": \"ImpDsc\",\n",
    "  \"Spectral Change Day of Year\": \"SpcChg\"\n",
    "}\n",
    "nlcd_annual_fname_template = \"Annual_NLCD_{file_type}_{year}_CU_C1V1.tiff\"\n",
    "nlcd_annual_fractional_impervious_change_template = \"Annual_NLCD_FctImp_{from_year}_{to_year}_CU_C1V1.tiff\"\n",
    "\n",
    "landcover_dir = os.path.relpath(\"../datasets/landcover\")\n",
    "nlcd_landcover_dir = os.path.join(landcover_dir, \"nlcd_annual\")\n",
    "fractional_impervious_change_dir = os.path.join(landcover_dir, \"fractional_impervious\", \"change\")\n",
    "\n"
   ]
  },
  {
   "cell_type": "code",
   "execution_count": 65,
   "id": "7b8d876f",
   "metadata": {},
   "outputs": [],
   "source": [
    "valid_data_def_dict = {\n",
    "  \"Land Cover\": {\"valid_range\": pd.Interval(closed=\"both\", left=11, right=95), \"no_data\": 250},\n",
    "  \"Land Cover Change\": {\"valid_range\": pd.Interval(closed=\"both\", left=11, right=9590), \"no_data\": 9999},\n",
    "  \"Land Cover Confidence\": {\"valid_range\": pd.Interval(closed=\"both\", left=1, right=100), \"no_data\": 250},\n",
    "  \"Fractional Impervious Surface\": {\"valid_range\": pd.Interval(closed=\"both\", left=0, right=100), \"no_data\": 250},\n",
    "  \"Impervious Descriptor\": {\"valid_range\": pd.Interval(closed=\"both\", left=0, right=2), \"no_data\": 250},\n",
    "  \"Spectral Change Day of Year\": {\"valid_range\": pd.Interval(closed=\"both\", left=0, right=366), \"no_data\": 9999},\n",
    "}"
   ]
  },
  {
   "cell_type": "code",
   "execution_count": 113,
   "id": "e6954e94",
   "metadata": {},
   "outputs": [],
   "source": [
    "fname_test = os.path.join(nlcd_landcover_dir, \"croton_outer\", \"Annual_NLCD_FctImp_2024_CU_C1V1.tiff\")"
   ]
  },
  {
   "cell_type": "code",
   "execution_count": 114,
   "id": "6e0d59da",
   "metadata": {},
   "outputs": [
    {
     "data": {
      "text/plain": [
       "{'driver': 'GTiff',\n",
       " 'dtype': 'uint8',\n",
       " 'nodata': 250.0,\n",
       " 'width': 2453,\n",
       " 'height': 2588,\n",
       " 'count': 1,\n",
       " 'crs': CRS.from_wkt('PROJCS[\"AEA        WGS84\",GEOGCS[\"WGS 84\",DATUM[\"WGS_1984\",SPHEROID[\"WGS 84\",6378137,298.257223563,AUTHORITY[\"EPSG\",\"7030\"]],AUTHORITY[\"EPSG\",\"6326\"]],PRIMEM[\"Greenwich\",0],UNIT[\"degree\",0.0174532925199433,AUTHORITY[\"EPSG\",\"9122\"]],AUTHORITY[\"EPSG\",\"4326\"]],PROJECTION[\"Albers_Conic_Equal_Area\"],PARAMETER[\"latitude_of_center\",23],PARAMETER[\"longitude_of_center\",-96],PARAMETER[\"standard_parallel_1\",29.5],PARAMETER[\"standard_parallel_2\",45.5],PARAMETER[\"false_easting\",0],PARAMETER[\"false_northing\",0],UNIT[\"metre\",1,AUTHORITY[\"EPSG\",\"9001\"]],AXIS[\"Easting\",EAST],AXIS[\"Northing\",NORTH]]'),\n",
       " 'transform': Affine(30.0, 0.0, 1798455.0,\n",
       "        0.0, -30.0, 2291385.0)}"
      ]
     },
     "execution_count": 114,
     "metadata": {},
     "output_type": "execute_result"
    }
   ],
   "source": [
    "with rio.open(fname_test) as src:\n",
    "  fractional_imp_ashokan_85 = src.read(1).astype(np.float64)\n",
    "  profile = src.meta.copy()\n",
    "\n",
    "# plt.imshow(fractional_imp_ashokan_85)\n",
    "profile"
   ]
  },
  {
   "cell_type": "code",
   "execution_count": 79,
   "id": "1001fdb7",
   "metadata": {},
   "outputs": [
    {
     "name": "stdout",
     "output_type": "stream",
     "text": [
      "valid area is 3261420900. impervious area is 226370124.0. impervious fraction is 0.06940843605926485\n"
     ]
    }
   ],
   "source": [
    "valid_interval = valid_data_def_dict[\"Fractional Impervious Surface\"][\"valid_range\"]\n",
    "m = ((fractional_imp_ashokan_85 >= valid_interval.left) & (fractional_imp_ashokan_85 <= valid_interval.right))\n",
    "valid_cells = m.sum()\n",
    "fractional_impervious = fractional_imp_ashokan_85.sum(where=m)\n",
    "\n",
    "# resolution is 30m2\n",
    "valid_area = valid_cells*30*30\n",
    "impervious_area = (fractional_impervious*30*30)/100\n",
    "total_fractional_impervious = impervious_area/valid_area\n",
    "\n",
    "print(f\"valid area is {valid_area}. impervious area is {impervious_area}. impervious fraction is {total_fractional_impervious}\")"
   ]
  },
  {
   "cell_type": "code",
   "execution_count": 119,
   "id": "ce967ac2",
   "metadata": {},
   "outputs": [],
   "source": [
    "def write_change_raster(from_year: int, to_year: int, area_name: str) -> None:\n",
    "  file_type_code = file_type_dic[\"Fractional Impervious Surface\"]\n",
    "  no_data_val = valid_data_def_dict[\"Fractional Impervious Surface\"][\"no_data\"]\n",
    "  fname_prev_year = nlcd_annual_fname_template.format(file_type=file_type_code, year=from_year)\n",
    "  fname_curr_year = nlcd_annual_fname_template.format(file_type=file_type_code, year=to_year)\n",
    "  out_fname = nlcd_annual_fractional_impervious_change_template.format(from_year=from_year, to_year=to_year)\n",
    "  out_path = os.path.join(fractional_impervious_change_dir, area_name, out_fname)\n",
    "  path_prev_year = os.path.join(nlcd_landcover_dir, area_name, fname_prev_year)\n",
    "  path_curr_year = os.path.join(nlcd_landcover_dir, area_name, fname_curr_year)\n",
    "  if (os.path.isfile(path_prev_year) and os.path.isfile(path_curr_year)) != True:\n",
    "    print(\"missing one or more files:\", path_prev_year, path_curr_year)\n",
    "    return\n",
    "\n",
    "  with rio.open(path_prev_year) as src:\n",
    "    prev_yr_data = src.read(1).astype(np.int16)\n",
    "    profile = src.meta.copy()\n",
    "  \n",
    "  with rio.open(path_curr_year) as src:\n",
    "    curr_yr_data = src.read(1).astype(np.int16)\n",
    "  \n",
    "  # if either year has no data, set it to the nodata val for both years\n",
    "  m = (prev_yr_data != no_data_val) & (curr_yr_data != no_data_val)\n",
    "  squashed_prev_data = np.where(m, prev_yr_data, no_data_val)\n",
    "  squashed_curr_data = np.where(m, curr_yr_data, no_data_val)\n",
    "  \n",
    "  change = squashed_curr_data - squashed_prev_data\n",
    "  \n",
    "  profile.update(dtype=rio.int16, nodata=0)\n",
    "  with rio.open(out_path, \"w\", **profile) as out:\n",
    "    out.write(change, 1)"
   ]
  },
  {
   "cell_type": "code",
   "execution_count": 120,
   "id": "b064b8be",
   "metadata": {},
   "outputs": [],
   "source": [
    "\n",
    "for a_name in area_names:\n",
    "  write_change_raster(from_year=1985, to_year=2024, area_name=a_name)\n",
    "  # calculate yoy changes\n",
    "  for year in range(1986, 2025, 1):\n",
    "    write_change_raster(from_year=year-1, to_year=year, area_name=a_name)\n",
    "    if year in decadal_stops:\n",
    "      write_change_raster(from_year=year-9, to_year=year, area_name=a_name)"
   ]
  }
 ],
 "metadata": {
  "kernelspec": {
   "display_name": "water_supp",
   "language": "python",
   "name": "python3"
  },
  "language_info": {
   "codemirror_mode": {
    "name": "ipython",
    "version": 3
   },
   "file_extension": ".py",
   "mimetype": "text/x-python",
   "name": "python",
   "nbconvert_exporter": "python",
   "pygments_lexer": "ipython3",
   "version": "3.13.5"
  }
 },
 "nbformat": 4,
 "nbformat_minor": 5
}
